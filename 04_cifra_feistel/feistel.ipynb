{
 "cells": [
  {
   "cell_type": "markdown",
   "metadata": {},
   "source": [
    "# Cifra de Feistel"
   ]
  },
  {
   "cell_type": "code",
   "execution_count": 130,
   "metadata": {},
   "outputs": [],
   "source": [
    "msg = \"abcd1234\"\n",
    "key = \"1234\""
   ]
  },
  {
   "cell_type": "markdown",
   "metadata": {},
   "source": [
    "### Obter a mensagem em binario de 64 bits"
   ]
  },
  {
   "cell_type": "code",
   "execution_count": 131,
   "metadata": {},
   "outputs": [
    {
     "name": "stdout",
     "output_type": "stream",
     "text": [
      "Os primeiros 8 caracteres em numeros: [97, 98, 99, 100, 49, 50, 51, 52]\n",
      "Os primeiros 8 caracteres em binario: ['01100001', '01100010', '01100011', '01100100', '00110001', '00110010', '00110011', '00110100']\n",
      "Mensagem em binario de 64 bits: 0110000101100010011000110110010000110001001100100011001100110100\n"
     ]
    }
   ],
   "source": [
    "chars_ord = [ord(char) for char in msg[:8]]\n",
    "print(\"Os primeiros 8 caracteres em numeros:\", chars_ord)\n",
    "\n",
    "int_to_byte = lambda n: bin(n)[2:].zfill(8)\n",
    "chars_bin = [int_to_byte(n) for n in chars_ord]\n",
    "print(\"Os primeiros 8 caracteres em binario:\", chars_bin)\n",
    "\n",
    "msg_bin = ''.join(chars_bin)\n",
    "print(\"Mensagem em binario de 64 bits:\", msg_bin)"
   ]
  },
  {
   "cell_type": "markdown",
   "metadata": {},
   "source": [
    "### Obter chave de 32 bits"
   ]
  },
  {
   "cell_type": "code",
   "execution_count": 132,
   "metadata": {},
   "outputs": [
    {
     "name": "stdout",
     "output_type": "stream",
     "text": [
      "Chave de 32 bits: 825373492\n"
     ]
    }
   ],
   "source": [
    "chars_ord = [ord(char) for char in key[:4]]\n",
    "chars_bin = [int_to_byte(n) for n in chars_ord]\n",
    "key_bin = int(''.join(chars_bin), 2)\n",
    "print(\"Chave de 32 bits:\", key_bin)\n"
   ]
  },
  {
   "cell_type": "markdown",
   "metadata": {},
   "source": [
    "### Funcao F simples e round de Feistel"
   ]
  },
  {
   "cell_type": "code",
   "execution_count": 135,
   "metadata": {},
   "outputs": [],
   "source": [
    "def f_function(r, k):\n",
    "    return r ^ k\n",
    "\n",
    "def feistel_round(l, r, iteration):\n",
    "    k = key_bin ^ (key_bin + iteration * 16)\n",
    "\n",
    "    l_next = r\n",
    "    r_next = l ^ f_function(r, k)\n",
    "    return l_next, r_next"
   ]
  },
  {
   "cell_type": "markdown",
   "metadata": {},
   "source": [
    "### 16 rounds de encriptacao"
   ]
  },
  {
   "cell_type": "code",
   "execution_count": 136,
   "metadata": {},
   "outputs": [
    {
     "name": "stdout",
     "output_type": "stream",
     "text": [
      "Binario final encriptado: 0011000100110010001100111110010001010000010100000101000000100000\n",
      "Bytes finais encripitados ['00110001', '00110010', '00110011', '11100100', '01010000', '01010000', '01010000', '00100000']\n",
      "Mensagem final encripitada: 123äPPP \n"
     ]
    }
   ],
   "source": [
    "l = int(msg_bin[:32], 2)\n",
    "r = int(msg_bin[32:], 2)\n",
    "\n",
    "for i in range(16):\n",
    "    l, r = feistel_round(l, r, i)\n",
    "\n",
    "crypt_bin = bin(l)[2:].zfill(32) + bin(r)[2:].zfill(32)\n",
    "print(\"Binario final encriptado:\", crypt_bin)\n",
    "\n",
    "crypt_char = [crypt_bin[i : i + 8] for i in range(0, 64, 8)]\n",
    "print(\"Bytes finais encripitados\", crypt_char)\n",
    "\n",
    "crypt_msg = ''.join([chr(int(char,2)) for char in crypt_char])\n",
    "print(\"Mensagem final encripitada:\", crypt_msg)\n"
   ]
  }
 ],
 "metadata": {
  "kernelspec": {
   "display_name": "Python 3",
   "language": "python",
   "name": "python3"
  },
  "language_info": {
   "codemirror_mode": {
    "name": "ipython",
    "version": 3
   },
   "file_extension": ".py",
   "mimetype": "text/x-python",
   "name": "python",
   "nbconvert_exporter": "python",
   "pygments_lexer": "ipython3",
   "version": "3.10.12"
  }
 },
 "nbformat": 4,
 "nbformat_minor": 2
}
