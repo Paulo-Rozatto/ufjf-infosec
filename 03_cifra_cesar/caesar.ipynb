{
 "cells": [
  {
   "cell_type": "markdown",
   "metadata": {},
   "source": [
    "# Crifra de Cesar"
   ]
  },
  {
   "cell_type": "code",
   "execution_count": 61,
   "metadata": {},
   "outputs": [],
   "source": [
    "from sys import maxunicode"
   ]
  },
  {
   "cell_type": "code",
   "execution_count": 57,
   "metadata": {},
   "outputs": [],
   "source": [
    "def encrypt(msg, shift):\n",
    "    if (shift <= 0):\n",
    "        print(\"Deslocamento tem que ser >= 1\")\n",
    "        return \"\"\n",
    "    mapper = lambda char: chr((ord(char) + shift) % maxunicode)\n",
    "    return \"\".join(map(mapper, msg))\n",
    "\n",
    "def decrypt(msg, shift):\n",
    "    if (shift <= 0):\n",
    "        print(\"Deslocamento tem que ser >= 1\")\n",
    "        return \"\"\n",
    "    mapper = lambda char: chr((ord(char) - shift) % maxunicode)\n",
    "    return \"\".join(map(mapper, msg))"
   ]
  },
  {
   "cell_type": "code",
   "execution_count": 63,
   "metadata": {},
   "outputs": [
    {
     "name": "stdout",
     "output_type": "stream",
     "text": [
      "Mensagem original: Olá mundo!\n",
      "Mensagem encriptada: \\yî-z{q|.\n",
      "Mensagem decriptada: Olá mundo!\n"
     ]
    }
   ],
   "source": [
    "msg = \"Olá mundo!\"\n",
    "shift = 13\n",
    "\n",
    "print(\"Mensagem original: \" + msg)\n",
    "\n",
    "encrypted = encrypt(msg, shift)\n",
    "print(\"Mensagem encriptada: \" +  encrypted)\n",
    "\n",
    "decrypted =  decrypt(encrypted, shift)\n",
    "print(\"Mensagem decriptada: \" + decrypted)"
   ]
  }
 ],
 "metadata": {
  "kernelspec": {
   "display_name": "Python 3",
   "language": "python",
   "name": "python3"
  },
  "language_info": {
   "codemirror_mode": {
    "name": "ipython",
    "version": 3
   },
   "file_extension": ".py",
   "mimetype": "text/x-python",
   "name": "python",
   "nbconvert_exporter": "python",
   "pygments_lexer": "ipython3",
   "version": "3.10.12"
  }
 },
 "nbformat": 4,
 "nbformat_minor": 2
}
